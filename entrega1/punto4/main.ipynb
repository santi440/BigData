{
 "cells": [
  {
   "cell_type": "markdown",
   "id": "3df83cd7",
   "metadata": {},
   "source": [
    "PREGUNTAR: Puedo chorearme mi archivo punto2/contabilizado/output.txt con estructura\n",
    "\n",
    "```sql \n",
    "id_retador puntos_total cantidad\n",
    "```\n",
    "\n",
    "para simplificar el calculo de la PP?"
   ]
  },
  {
   "cell_type": "markdown",
   "id": "394aaa29",
   "metadata": {},
   "source": [
    "Primer JOB es solo para formatear el DATASET COMO UN INNER JOIN "
   ]
  },
  {
   "cell_type": "code",
   "execution_count": 50,
   "id": "70b0e911",
   "metadata": {},
   "outputs": [],
   "source": [
    "from MRE import Job\n",
    "inputDir = \"./jugadores/\"\n",
    "promedioDir = \"../punto2/contabilizado/\"\n",
    "outputDir = \"./format/\""
   ]
  },
  {
   "cell_type": "code",
   "execution_count": null,
   "id": "bb3c2769",
   "metadata": {},
   "outputs": [
    {
     "name": "stdout",
     "output_type": "stream",
     "text": [
      "True\n"
     ]
    }
   ],
   "source": [
    "def fmap(key, value, context):\n",
    "    lista = value.split()\n",
    "    context.write((key,'RETADO'), lista[0]) \n",
    "\n",
    "def fmap2(key, value, context):\n",
    "    lista = value.split()\n",
    "    context.write((key, 'PP')  , (int(lista[0])/int(lista[1])))\n",
    "\n",
    "def cmpShort(key1,key2):\n",
    "    if(key1[0] == key2[0]):\n",
    "        return 0\n",
    "    elif(key1[0] < key2[0]):\n",
    "        return -1\n",
    "    else:\n",
    "        return 1\n",
    "\n",
    "def cmpShuffle(key1, key2):\n",
    "    if(key1[1] == key2[1]):\n",
    "        return 0\n",
    "    elif(key1[1] == \"PP\"): #PP es el primero \n",
    "        return -1\n",
    "    else:\n",
    "        return 1 #Caso retado\n",
    "\n",
    "def fred(key, values, context):\n",
    "    acumular_retados = set()\n",
    "    pp = next(values)  #Es un iterator pero si lo resuelvo con next() me da cualquier cosa \n",
    "    for v in values:\n",
    "        acumular_retados.add(v)\n",
    "    context.write(key[0], (pp,acumular_retados,puntaje_heroico_inicial))\n",
    "\n",
    "    \n",
    "puntaje_heroico_inicial = 1\n",
    "\n",
    "jobCount = Job(inputDir, outputDir, fmap, fred)\n",
    "jobCount.setSortCmp(cmpShort)\n",
    "jobCount.setShuffleCmp(cmpShuffle)\n",
    "jobCount.setParams(puntaje_heroico_inicial)\n",
    "jobCount.addInputPath(promedioDir,fmap2)\n",
    "\n",
    "success = jobCount.waitForCompletion()\n",
    "\n",
    "print(success)"
   ]
  },
  {
   "cell_type": "markdown",
   "id": "875849c3",
   "metadata": {},
   "source": [
    "Segundo job iterativo"
   ]
  },
  {
   "cell_type": "code",
   "execution_count": null,
   "id": "687b3a86",
   "metadata": {},
   "outputs": [],
   "source": [
    "inputDir = \"./format/\"\n",
    "outputDir = \"./out/\""
   ]
  },
  {
   "cell_type": "code",
   "execution_count": null,
   "id": "5cffe0b3",
   "metadata": {},
   "outputs": [
    {
     "ename": "FileNotFoundError",
     "evalue": "[Errno 2] No such file or directory: './distinct/'",
     "output_type": "error",
     "traceback": [
      "\u001b[31m---------------------------------------------------------------------------\u001b[39m",
      "\u001b[31mFileNotFoundError\u001b[39m                         Traceback (most recent call last)",
      "\u001b[36mCell\u001b[39m\u001b[36m \u001b[39m\u001b[32mIn[49]\u001b[39m\u001b[32m, line 14\u001b[39m\n\u001b[32m     12\u001b[39m jobCountBoth = Job(inputDir, outputDir, fmap, fred)\n\u001b[32m     13\u001b[39m jobCountBoth.setParams(H)\n\u001b[32m---> \u001b[39m\u001b[32m14\u001b[39m success = \u001b[43mjobCountBoth\u001b[49m\u001b[43m.\u001b[49m\u001b[43mwaitForCompletion\u001b[49m\u001b[43m(\u001b[49m\u001b[43m)\u001b[49m\n\u001b[32m     16\u001b[39m \u001b[38;5;28mprint\u001b[39m(success)\n",
      "\u001b[36mFile \u001b[39m\u001b[32m~/Documents/BigData/entrega1/punto4/MRE.py:470\u001b[39m, in \u001b[36mJob.waitForCompletion\u001b[39m\u001b[34m(this)\u001b[39m\n\u001b[32m    468\u001b[39m \u001b[38;5;28;01mdef\u001b[39;00m\u001b[38;5;250m \u001b[39m\u001b[34mwaitForCompletion\u001b[39m(this):\n\u001b[32m    469\u001b[39m     context = _Context(this.__inputs, this.__interDir, this.__output, this.__fComb, this.__params, this.__fShuffleCmp, this.__fSortCmp)\n\u001b[32m--> \u001b[39m\u001b[32m470\u001b[39m     \u001b[43mthis\u001b[49m\u001b[43m.\u001b[49m\u001b[43m__map\u001b[49m\u001b[43m(\u001b[49m\u001b[43mcontext\u001b[49m\u001b[43m)\u001b[49m\n\u001b[32m    471\u001b[39m     this.__shuffle(context)\n\u001b[32m    472\u001b[39m     this.__sort(context)\n",
      "\u001b[36mFile \u001b[39m\u001b[32m~/Documents/BigData/entrega1/punto4/MRE.py:453\u001b[39m, in \u001b[36mJob.__map\u001b[39m\u001b[34m(this, context)\u001b[39m\n\u001b[32m    452\u001b[39m \u001b[38;5;28;01mdef\u001b[39;00m\u001b[38;5;250m \u001b[39m\u001b[34m__map\u001b[39m(this, context):\n\u001b[32m--> \u001b[39m\u001b[32m453\u001b[39m \u001b[43m    \u001b[49m\u001b[38;5;28;43;01mfor\u001b[39;49;00m\u001b[43m \u001b[49m\u001b[43mn\u001b[49m\u001b[43m \u001b[49m\u001b[38;5;129;43;01min\u001b[39;49;00m\u001b[43m \u001b[49m\u001b[43mcontext\u001b[49m\u001b[43m:\u001b[49m\n\u001b[32m    454\u001b[39m \u001b[43m        \u001b[49m\u001b[38;5;28;43;01mfor\u001b[39;49;00m\u001b[43m \u001b[49m\u001b[43m(\u001b[49m\u001b[43mf\u001b[49m\u001b[43m,\u001b[49m\u001b[43m \u001b[49m\u001b[43mk\u001b[49m\u001b[43m,\u001b[49m\u001b[43m \u001b[49m\u001b[43mv\u001b[49m\u001b[43m)\u001b[49m\u001b[43m \u001b[49m\u001b[38;5;129;43;01min\u001b[39;49;00m\u001b[43m \u001b[49m\u001b[43mn\u001b[49m\u001b[43m:\u001b[49m\n\u001b[32m    455\u001b[39m \u001b[43m            \u001b[49m\u001b[43mf\u001b[49m\u001b[43m(\u001b[49m\u001b[43mk\u001b[49m\u001b[43m,\u001b[49m\u001b[43m \u001b[49m\u001b[43mv\u001b[49m\u001b[43m,\u001b[49m\u001b[43m \u001b[49m\u001b[43mcontext\u001b[49m\u001b[43m)\u001b[49m\n",
      "\u001b[36mFile \u001b[39m\u001b[32m~/Documents/BigData/entrega1/punto4/MRE.py:213\u001b[39m, in \u001b[36m_Context.__iter__\u001b[39m\u001b[34m(this)\u001b[39m\n\u001b[32m    211\u001b[39m \u001b[38;5;28;01mdef\u001b[39;00m\u001b[38;5;250m \u001b[39m\u001b[34m__iter__\u001b[39m(this):\n\u001b[32m    212\u001b[39m     \u001b[38;5;28;01mif\u001b[39;00m(this.__stage == \u001b[32m0\u001b[39m):\n\u001b[32m--> \u001b[39m\u001b[32m213\u001b[39m         \u001b[38;5;28;01mreturn\u001b[39;00m \u001b[43m_Cluster\u001b[49m\u001b[43m(\u001b[49m\u001b[43mthis\u001b[49m\u001b[43m.\u001b[49m\u001b[43m__inputs\u001b[49m\u001b[43m)\u001b[49m\n\u001b[32m    214\u001b[39m         \u001b[38;5;66;03m#return _MapIterator(this.__inputs)\u001b[39;00m\n\u001b[32m    215\u001b[39m     \u001b[38;5;28;01melif\u001b[39;00m(this.__stage == \u001b[32m3\u001b[39m):\n",
      "\u001b[36mFile \u001b[39m\u001b[32m~/Documents/BigData/entrega1/punto4/MRE.py:164\u001b[39m, in \u001b[36m_Cluster.__init__\u001b[39m\u001b[34m(this, inputs)\u001b[39m\n\u001b[32m    162\u001b[39m lines = []\n\u001b[32m    163\u001b[39m \u001b[38;5;28;01mfor\u001b[39;00m i \u001b[38;5;129;01min\u001b[39;00m inputs:\n\u001b[32m--> \u001b[39m\u001b[32m164\u001b[39m     files = [obj.name \u001b[38;5;28;01mfor\u001b[39;00m obj \u001b[38;5;129;01min\u001b[39;00m \u001b[43mscandir\u001b[49m\u001b[43m(\u001b[49m\u001b[43mi\u001b[49m\u001b[43m[\u001b[49m\u001b[32;43m0\u001b[39;49m\u001b[43m]\u001b[49m\u001b[43m)\u001b[49m \u001b[38;5;28;01mif\u001b[39;00m obj.is_file()]\n\u001b[32m    165\u001b[39m     \u001b[38;5;28;01mfor\u001b[39;00m f \u001b[38;5;129;01min\u001b[39;00m files:\n\u001b[32m    166\u001b[39m         file = \u001b[38;5;28mopen\u001b[39m(i[\u001b[32m0\u001b[39m] + \u001b[33m\"\u001b[39m\u001b[33m/\u001b[39m\u001b[33m\"\u001b[39m + f, \u001b[33m\"\u001b[39m\u001b[33mr\u001b[39m\u001b[33m\"\u001b[39m, encoding=\u001b[33m'\u001b[39m\u001b[33mlatin-1\u001b[39m\u001b[33m'\u001b[39m)\n",
      "\u001b[31mFileNotFoundError\u001b[39m: [Errno 2] No such file or directory: './distinct/'"
     ]
    }
   ],
   "source": [
    "def fmap(key, value, context):\n",
    "    context.write(key, value)\n",
    "\n",
    "def fred(key, values, context):\n",
    "    c = 0\n",
    "    for v in values:\n",
    "        c += 1\n",
    "    if c >= H:\n",
    "        context.write(key, c)\n",
    "H = 12\n",
    "\n",
    "alfa = 0.1\n",
    "jobCountBoth = Job(inputDir, outputDir, fmap, fred)\n",
    "jobCount.setParams(alfa)\n",
    "jobCountBoth.setParams(H)\n",
    "success = jobCountBoth.waitForCompletion()\n",
    "\n",
    "print(success)"
   ]
  },
  {
   "cell_type": "markdown",
   "id": "f56e2373",
   "metadata": {},
   "source": [
    "Tercer Job saca top 10 "
   ]
  }
 ],
 "metadata": {
  "kernelspec": {
   "display_name": "venv (3.12.3)",
   "language": "python",
   "name": "python3"
  },
  "language_info": {
   "codemirror_mode": {
    "name": "ipython",
    "version": 3
   },
   "file_extension": ".py",
   "mimetype": "text/x-python",
   "name": "python",
   "nbconvert_exporter": "python",
   "pygments_lexer": "ipython3",
   "version": "3.12.3"
  }
 },
 "nbformat": 4,
 "nbformat_minor": 5
}
