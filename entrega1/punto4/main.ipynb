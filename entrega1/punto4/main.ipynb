{
 "cells": [
  {
   "cell_type": "markdown",
   "id": "3df83cd7",
   "metadata": {},
   "source": [
    "PREGUNTAR: Puedo chorearme mi archivo punto2/contabilizado/output.txt con estructura\n",
    "\n",
    "```sql \n",
    "id_retador puntos_total cantidad\n",
    "```\n",
    "\n",
    "para simplificar el calculo de la PP?"
   ]
  },
  {
   "cell_type": "markdown",
   "id": "394aaa29",
   "metadata": {},
   "source": [
    "Primer JOB es solo para formatear el DATASET COMO UN INNER JOIN "
   ]
  },
  {
   "cell_type": "code",
   "execution_count": 71,
   "id": "70b0e911",
   "metadata": {},
   "outputs": [],
   "source": [
    "from MRE import Job\n",
    "inputDir = \"./jugadores/\"\n",
    "promedioDir = \"../punto2/contabilizado/\"\n",
    "outputDir = \"./format/\""
   ]
  },
  {
   "cell_type": "code",
   "execution_count": 72,
   "id": "bb3c2769",
   "metadata": {},
   "outputs": [
    {
     "name": "stdout",
     "output_type": "stream",
     "text": [
      "KEY: (1, 'RETADO') PP: 1919.2222222222222 RETADOS: {'15', '48', '49', '23', '41', '42', '47', '37', '73', '43', '96', '57', '2', '10', '64'}\n",
      "KEY: (3, 'RETADO') PP: 2524.5 RETADOS: {'46', '62', '21', '28'}\n",
      "KEY: (4, 'RETADO') PP: 2663.0 RETADOS: {'5', '56'}\n",
      "KEY: (5, 'PP') PP: 3288.0 RETADOS: {'62'}\n",
      "KEY: (7, 'RETADO') PP: 1231.5 RETADOS: {'44', '69'}\n",
      "KEY: (8, 'RETADO') PP: 2060.25 RETADOS: {'57', '36', '76', '38'}\n",
      "KEY: (9, 'RETADO') PP: 2468.0 RETADOS: {'62', '40', '42', '47', '58', '74'}\n",
      "KEY: (10, 'RETADO') PP: 1325.6666666666667 RETADOS: {'64', '60', '8'}\n",
      "KEY: (11, 'PP') PP: 1411.0 RETADOS: {'49'}\n",
      "KEY: (12, 'RETADO') PP: 2886.3333333333335 RETADOS: {'25', '48', '50'}\n",
      "KEY: (13, 'RETADO') PP: 3858.6666666666665 RETADOS: {'1', '49', '55'}\n",
      "KEY: (14, 'RETADO') PP: 2518.3333333333335 RETADOS: {'45', '55', '37'}\n",
      "KEY: (15, 'RETADO') PP: 992.5 RETADOS: {'62', '89'}\n",
      "KEY: (16, 'PP') PP: 3567.5 RETADOS: {'76', '89'}\n",
      "KEY: (17, 'RETADO') PP: 2431.6666666666665 RETADOS: {'26', '23', '33', '27', '39', '53'}\n",
      "KEY: (18, 'RETADO') PP: 1367.0 RETADOS: {'26', '49', '50'}\n",
      "KEY: (19, 'RETADO') PP: 1753.6666666666667 RETADOS: {'48', '22', '72'}\n",
      "KEY: (20, 'RETADO') PP: 3698.6666666666665 RETADOS: {'34', '1', '67'}\n",
      "KEY: (21, 'PP') PP: 2831.0 RETADOS: {'44'}\n",
      "KEY: (22, 'PP') PP: 1670.0 RETADOS: {'48'}\n",
      "KEY: (23, 'RETADO') PP: 2859.125 RETADOS: {'82', '60', '9', '80', '33', '41', '30'}\n",
      "KEY: (25, 'RETADO') PP: 2713.6 RETADOS: {'11', '1', '77', '21', '57'}\n",
      "KEY: (26, 'PP') PP: 2101.8333333333335 RETADOS: {'15', '38', '61', '73', '43', '53'}\n",
      "KEY: (27, 'RETADO') PP: 2099.5714285714284 RETADOS: {'26', '88', '24', '61', '73', '29', '59'}\n",
      "KEY: (28, 'RETADO') PP: 2007.625 RETADOS: {'75', '8', '50', '94', '1', '43', '81', '32'}\n",
      "KEY: (29, 'RETADO') PP: 1907.111111111111 RETADOS: {'66', '76', '84', '1', '119', '73', '95', '64', '53'}\n",
      "KEY: (30, 'RETADO') PP: 2424.0 RETADOS: {'85', '94', '41', '69', '39'}\n",
      "KEY: (31, 'RETADO') PP: 2205.4 RETADOS: {'48', '99', '50', '80', '33'}\n",
      "KEY: (32, 'RETADO') PP: 3111.75 RETADOS: {'60', '71', '33', '43', '44', '59', '79', '54'}\n",
      "KEY: (33, 'RETADO') PP: 2421.7 RETADOS: {'51', '23', '66', '62', '69', '47', '43', '67', '96', '37'}\n",
      "KEY: (34, 'RETADO') PP: 2180.375 RETADOS: {'51', '49', '97', '55', '19', '64', '53'}\n",
      "KEY: (35, 'RETADO') PP: 2290.8571428571427 RETADOS: {'45', '48', '56', '28', '71', '70', '44'}\n",
      "KEY: (36, 'RETADO') PP: 1902.0 RETADOS: {'101', '18', '84', '37'}\n",
      "KEY: (37, 'RETADO') PP: 1947.875 RETADOS: {'45', '50', '88', '1', '40', '32', '19', '54'}\n",
      "KEY: (38, 'RETADO') PP: 2285.5714285714284 RETADOS: {'104', '42', '69', '43', '32', '39'}\n",
      "KEY: (39, 'RETADO') PP: 2468.1428571428573 RETADOS: {'49', '71', '24', '73', '32', '90', '54'}\n",
      "KEY: (40, 'RETADO') PP: 2175.0 RETADOS: {'23', '1', '20', '63', '18'}\n",
      "KEY: (41, 'RETADO') PP: 2493.4285714285716 RETADOS: {'8', '56', '62', '38', '27', '92', '39'}\n",
      "KEY: (42, 'RETADO') PP: 1759.0 RETADOS: {'43', '35', '39', '65'}\n",
      "KEY: (43, 'RETADO') PP: 3894.3333333333335 RETADOS: {'51', '104', '4', '16', '31', '112'}\n",
      "KEY: (44, 'PP') PP: 2258.8571428571427 RETADOS: {'65', '98', '85', '42', '67', '17'}\n",
      "KEY: (45, 'RETADO') PP: 2874.3 RETADOS: {'65', '60', '5', '35', '77', '38', '61', '44', '55', '20'}\n",
      "KEY: (46, 'RETADO') PP: 2515.6 RETADOS: {'45', '28', '61', '73', '59'}\n",
      "KEY: (47, 'RETADO') PP: 2337.090909090909 RETADOS: {'36', '48', '50', '41', '43', '34', '86', '55', '68', '31', '59'}\n",
      "KEY: (48, 'RETADO') PP: 3610.75 RETADOS: {'60', '56', '42', '24', '27', '92', '139', '43', '67', '16', '54', '106'}\n",
      "KEY: (49, 'RETADO') PP: 1318.75 RETADOS: {'43', '37', '32', '47'}\n",
      "KEY: (50, 'RETADO') PP: 2782.2 RETADOS: {'45', '56', '70', '40', '38', '24', '91', '34', '37'}\n",
      "KEY: (51, 'RETADO') PP: 2229.0 RETADOS: {'65', '36', '76', '52', '63', '57', '29', '53'}\n",
      "KEY: (52, 'RETADO') PP: 2494.125 RETADOS: {'13', '23', '76', '50', '88', '63', '74', '54'}\n",
      "KEY: (53, 'PP') PP: 4088.3333333333335 RETADOS: {'45', '76', '100', '30', '47', '52'}\n",
      "KEY: (54, 'PP') PP: 1896.3333333333333 RETADOS: {'36', '30', '47', '81', '31', '39'}\n",
      "KEY: (55, 'RETADO') PP: 2814.6923076923076 RETADOS: {'18', '62', '56', '35', '40', '44', '86', '22', '19', '29', '59', '53'}\n",
      "KEY: (56, 'RETADO') PP: 2141.8571428571427 RETADOS: {'1', '42', '40', '43', '68', '52', '17'}\n",
      "KEY: (57, 'RETADO') PP: 2851.875 RETADOS: {'48', '9', '24', '47', '61', '67', '79', '63'}\n",
      "KEY: (58, 'RETADO') PP: 2260.8 RETADOS: {'87', '81', '59', '54', '10'}\n",
      "KEY: (59, 'RETADO') PP: 2413.3333333333335 RETADOS: {'26', '51', '71', '88', '33', '1', '69', '47', '20', '32', '79'}\n",
      "KEY: (60, 'RETADO') PP: 2573.222222222222 RETADOS: {'45', '62', '24', '67', '63', '58', '78'}\n",
      "KEY: (61, 'RETADO') PP: 2205.0 RETADOS: {'71', '35', '34', '72', '59'}\n",
      "KEY: (62, 'RETADO') PP: 2676.3333333333335 RETADOS: {'65', '46', '69', '37', '68', '31', '19', '52', '18'}\n",
      "KEY: (63, 'RETADO') PP: 2276.2 RETADOS: {'65', '51', '18', '62', '56', '33', '29', '54', '53', '17'}\n",
      "KEY: (64, 'RETADO') PP: 2980.375 RETADOS: {'65', '50', '30', '27', '68', '34', '72'}\n",
      "KEY: (65, 'RETADO') PP: 2235.769230769231 RETADOS: {'36', '51', '60', '75', '28', '98', '83', '85', '84', '69', '14', '31', '52'}\n",
      "KEY: (66, 'RETADO') PP: 3218.25 RETADOS: {'73', '70', '86', '32'}\n",
      "KEY: (67, 'RETADO') PP: 3066.0 RETADOS: {'45', '98', '1', '35', '43', '22', '4'}\n",
      "KEY: (68, 'PP') PP: 2402.0 RETADOS: {'82'}\n",
      "KEY: (69, 'RETADO') PP: 1470.5 RETADOS: {'43', '58'}\n",
      "KEY: (70, 'RETADO') PP: 1971.5 RETADOS: {'26', '60', '40', '73', '43', '81'}\n",
      "KEY: (71, 'RETADO') PP: 3463.5714285714284 RETADOS: {'75', '45', '56', '11', '83', '40', '57'}\n",
      "KEY: (72, 'PP') PP: 2592.1 RETADOS: {'65', '50', '88', '70', '40', '92', '86', '32', '54', '106'}\n",
      "KEY: (73, 'RETADO') PP: 2285.5 RETADOS: {'6', '74', '81', '38'}\n",
      "KEY: (74, 'RETADO') PP: 3006.0 RETADOS: {'41', '30', '14', '79', '58', '78'}\n",
      "KEY: (75, 'RETADO') PP: 1505.1666666666667 RETADOS: {'48', '87', '47', '20', '21', '64'}\n",
      "KEY: (76, 'RETADO') PP: 1854.0 RETADOS: {'89', '69', '21', '58', '52', '17'}\n",
      "KEY: (77, 'RETADO') PP: 2104.1666666666665 RETADOS: {'114', '1', '40', '12', '57', '17'}\n",
      "KEY: (78, 'RETADO') PP: 3469.0 RETADOS: {'62', '27'}\n",
      "KEY: (79, 'RETADO') PP: 2083.0 RETADOS: {'60', '50'}\n",
      "KEY: (80, 'RETADO') PP: 2633.6666666666665 RETADOS: {'52', '59', '48'}\n",
      "KEY: (81, 'PP') PP: 4651.0 RETADOS: {'36'}\n",
      "KEY: (82, 'RETADO') PP: 3433.0 RETADOS: {'93', '31'}\n",
      "KEY: (83, 'RETADO') PP: 2323.8333333333335 RETADOS: {'51', '76', '69', '29', '105'}\n",
      "KEY: (84, 'RETADO') PP: 2119.0 RETADOS: {'26', '1'}\n",
      "KEY: (85, 'RETADO') PP: 3865.0 RETADOS: {'82', '60'}\n",
      "KEY: (86, 'RETADO') PP: 3447.5 RETADOS: {'50', '28'}\n",
      "KEY: (87, 'RETADO') PP: 4264.333333333333 RETADOS: {'19', '60', '66'}\n",
      "KEY: (88, 'RETADO') PP: 3016.0 RETADOS: {'83', '68'}\n",
      "KEY: (89, 'RETADO') PP: 3414.8 RETADOS: {'48', '1', '58', '6', '74'}\n",
      "KEY: (90, 'PP') PP: 1887.6666666666667 RETADOS: {'48', '25', '4', '72', '93', '2'}\n",
      "KEY: (91, 'PP') PP: 3158.6666666666665 RETADOS: {'52', '60', '22'}\n",
      "KEY: (93, 'PP') PP: 2501.0 RETADOS: {'36', '18'}\n",
      "KEY: (94, 'PP') PP: 3458.5 RETADOS: {'56', '58'}\n",
      "KEY: (95, 'RETADO') PP: 3804.0 RETADOS: {'37', '49'}\n",
      "KEY: (96, 'PP') PP: 2865.0 RETADOS: {'95'}\n",
      "KEY: (97, 'RETADO') PP: 4800.0 RETADOS: {'33'}\n",
      "KEY: (98, 'RETADO') PP: 3275.5 RETADOS: {'73', '37', '46', '1'}\n",
      "KEY: (100, 'PP') PP: 4529.0 RETADOS: {'67'}\n",
      "KEY: (102, 'PP') PP: 1996.0 RETADOS: {'81', '52', '23', '53'}\n",
      "KEY: (103, 'RETADO') PP: 4988.0 RETADOS: {'33'}\n",
      "KEY: (104, 'RETADO') PP: 4783.0 RETADOS: {'61'}\n",
      "KEY: (113, 'PP') PP: 3049.0 RETADOS: {'27'}\n",
      "KEY: (116, 'PP') PP: 3786.0 RETADOS: {'42'}\n",
      "True\n"
     ]
    }
   ],
   "source": [
    "def fmap(key, value, context):\n",
    "    lista = value.split()\n",
    "    #print(key)\n",
    "    context.write((int(key),'RETADO'), lista[0]) \n",
    "\n",
    "def fmap2(key, value, context):\n",
    "    lista = value.split()\n",
    "    #print(\"2 \" + key)\n",
    "\n",
    "    context.write((int(key), 'PP')  , (int(lista[0])/int(lista[1])))\n",
    "\n",
    "def cmpShort(key1,key2):\n",
    "    if(key1[0] == key2[0]):\n",
    "        return 0\n",
    "    elif(key1[0] < key2[0]):\n",
    "        return -1\n",
    "    else:\n",
    "        return 1\n",
    "\n",
    "def cmpShuffle(key1, key2):\n",
    "    if(key1[1] == key2[1]):\n",
    "        return 0\n",
    "    elif(key1[1] == \"PP\"): #PP es el primero \n",
    "        return -1\n",
    "    else:\n",
    "        return 1 #Caso retado\n",
    "\n",
    "def fred(key, values, context):\n",
    "    acumular_retados = set()\n",
    "    pp = next(values)  #Es un iterator pero si lo resuelvo con next() me da cualquier cosa \n",
    "    for v in values:\n",
    "        acumular_retados.add(v)\n",
    "    print(f\"KEY: {key} PP: {pp} RETADOS: {acumular_retados}\")\n",
    "    context.write(key[0], (pp,acumular_retados,puntaje_heroico_inicial))\n",
    "\n",
    "    \n",
    "puntaje_heroico_inicial = 1\n",
    "\n",
    "jobCount = Job(inputDir, outputDir, fmap, fred)\n",
    "jobCount.setSortCmp(cmpShuffle)\n",
    "jobCount.setShuffleCmp(cmpShort)\n",
    "jobCount.setParams(puntaje_heroico_inicial)\n",
    "jobCount.addInputPath(promedioDir,fmap2)\n",
    "\n",
    "success = jobCount.waitForCompletion()\n",
    "\n",
    "print(success)"
   ]
  },
  {
   "cell_type": "markdown",
   "id": "875849c3",
   "metadata": {},
   "source": [
    "Segundo job iterativo"
   ]
  },
  {
   "cell_type": "code",
   "execution_count": 73,
   "id": "687b3a86",
   "metadata": {},
   "outputs": [],
   "source": [
    "inputDir = \"./format/\"\n",
    "outputDir = \"./out/\""
   ]
  },
  {
   "cell_type": "code",
   "execution_count": 74,
   "id": "5cffe0b3",
   "metadata": {},
   "outputs": [
    {
     "name": "stdout",
     "output_type": "stream",
     "text": [
      "True\n"
     ]
    }
   ],
   "source": [
    "def fmap(key, value, context):\n",
    "    context.write(key, value)\n",
    "\n",
    "def fred(key, values, context):\n",
    "    c = 0\n",
    "    for v in values:\n",
    "        c += 1\n",
    "    if c >= H:\n",
    "        context.write(key, c)\n",
    "H = 12\n",
    "\n",
    "alfa = 0.1\n",
    "jobCountBoth = Job(inputDir, outputDir, fmap, fred)\n",
    "jobCount.setParams(alfa)\n",
    "jobCountBoth.setParams(H)\n",
    "success = jobCountBoth.waitForCompletion()\n",
    "\n",
    "print(success)"
   ]
  },
  {
   "cell_type": "markdown",
   "id": "f56e2373",
   "metadata": {},
   "source": [
    "Tercer Job saca top 10 "
   ]
  }
 ],
 "metadata": {
  "kernelspec": {
   "display_name": "venv (3.12.3)",
   "language": "python",
   "name": "python3"
  },
  "language_info": {
   "codemirror_mode": {
    "name": "ipython",
    "version": 3
   },
   "file_extension": ".py",
   "mimetype": "text/x-python",
   "name": "python",
   "nbconvert_exporter": "python",
   "pygments_lexer": "ipython3",
   "version": "3.12.3"
  }
 },
 "nbformat": 4,
 "nbformat_minor": 5
}
