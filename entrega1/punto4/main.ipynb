{
 "cells": [
  {
   "cell_type": "markdown",
   "id": "3df83cd7",
   "metadata": {},
   "source": [
    "PREGUNTAR: Puedo chorearme mi archivo punto2/contabilizado/output.txt con estructura\n",
    "\n",
    "```sql \n",
    "id_retador puntos_total cantidad\n",
    "```\n",
    "\n",
    "para simplificar el calculo de la PP?"
   ]
  },
  {
   "cell_type": "markdown",
   "id": "394aaa29",
   "metadata": {},
   "source": [
    "Primer JOB es solo para formatear el DATASET COMO UN INNER JOIN "
   ]
  },
  {
   "cell_type": "code",
   "execution_count": null,
   "id": "70b0e911",
   "metadata": {},
   "outputs": [],
   "source": [
    "from MRE import Job\n",
    "inputDir = \"./jugadores/\"\n",
    "promedioDir = \"../punto2/contabilizado/\"\n",
    "outputDir = \"./format/\""
   ]
  },
  {
   "cell_type": "code",
   "execution_count": null,
   "id": "bb3c2769",
   "metadata": {},
   "outputs": [],
   "source": [
    "def fmap(key, value, context):\n",
    "    lista = value.split()\n",
    "    #print(key)\n",
    "    context.write((int(lista[0]),'RETADO'), int(key))\n",
    "\n",
    "def fmap2(key, value, context):\n",
    "    lista = value.split()\n",
    "    #print(\"2 \" + key)\n",
    "\n",
    "    context.write((int(key), 'PP')  , (int(lista[0])/int(lista[1])))\n",
    "\n",
    "def cmpShort(key1,key2):\n",
    "    if(key1[0] == key2[0]):\n",
    "        return 0\n",
    "    elif(key1[0] < key2[0]):\n",
    "        return -1\n",
    "    else:\n",
    "        return 1\n",
    "\n",
    "def cmpShuffle(key1, key2):\n",
    "    if(key1[1] == key2[1]):\n",
    "        return 0\n",
    "    elif(key1[1] == \"PP\"): #PP es el primero \n",
    "        return -1\n",
    "    else:\n",
    "        return 1 #Caso retado\n",
    "\n",
    "def fred(key, values, context):\n",
    "    acumular_retados = set()\n",
    "    pp = next(values)  \n",
    "    for v in values:\n",
    "        acumular_retados.add(v)\n",
    "    context.write(key[0], (pp,acumular_retados,puntaje_heroico_inicial))\n",
    "\n",
    "    \n",
    "puntaje_heroico_inicial = 1\n",
    "\n",
    "jobCount = Job(inputDir, outputDir, fmap, fred)\n",
    "jobCount.setSortCmp(cmpShuffle)\n",
    "jobCount.setShuffleCmp(cmpShort)\n",
    "jobCount.setParams(puntaje_heroico_inicial)\n",
    "jobCount.addInputPath(promedioDir,fmap2)\n",
    "\n",
    "success = jobCount.waitForCompletion()\n",
    "\n",
    "print(success)"
   ]
  },
  {
   "cell_type": "markdown",
   "id": "875849c3",
   "metadata": {},
   "source": [
    "Segundo job iterativo"
   ]
  },
  {
   "cell_type": "code",
   "execution_count": null,
   "id": "687b3a86",
   "metadata": {},
   "outputs": [],
   "source": [
    "inputDir = \"./format/\"\n",
    "outputDir = \"./out/\""
   ]
  },
  {
   "cell_type": "code",
   "execution_count": null,
   "id": "5cffe0b3",
   "metadata": {},
   "outputs": [],
   "source": [
    "def fmap(key, value, context):\n",
    "    lista = value.split()\n",
    "    context.write(key, (\"ESTRUCTURA\", value))\n",
    "    for v in value:\n",
    "        context.write(key, (\"CONTRIBUCION\", lista[1],lista[3]))\n",
    "\n",
    "def cmpShort(key1,key2):\n",
    "    if(key1[0] == key2[0]):\n",
    "        return 0\n",
    "    elif(key1[0] < key2[0]):\n",
    "        return -1\n",
    "    else:\n",
    "        return 1\n",
    "\n",
    "def cmpShuffle(key1, key2):\n",
    "    if(key1[1] == key2[1]):\n",
    "        return 0\n",
    "    elif(key1[1] == \"ESTRUCTURA\"): #PP es el primero \n",
    "        return -1\n",
    "    else:\n",
    "        return 1 #Caso retado\n",
    "\n",
    "def fred(key, values, context):\n",
    "    valor = next(values)\n",
    "    actual = (key,valor)\n",
    "    PPi = valor[0]\n",
    "    acumulador=0\n",
    "    for v in values: \n",
    "        PHv = v[2]\n",
    "        PPv = v[1]\n",
    "        acumulador= PHv * (PPi/PPv)\n",
    "    acumulador = alfa*acumulador + (1-alfa)\n",
    "    valor = (valor[0],valor[1], valor[2], acumulador)\n",
    "    context.write(key,valor)\n",
    "\n",
    "alfa = 0.1\n",
    "jobCountBoth = Job(inputDir, outputDir, fmap, fred)\n",
    "jobCount.setParams(alfa)\n",
    "success = jobCountBoth.waitForCompletion()\n",
    "\n",
    "print(success)"
   ]
  },
  {
   "cell_type": "markdown",
   "id": "f56e2373",
   "metadata": {},
   "source": [
    "Tercer Job saca top 10 "
   ]
  }
 ],
 "metadata": {
  "kernelspec": {
   "display_name": "venv (3.12.3)",
   "language": "python",
   "name": "python3"
  },
  "language_info": {
   "codemirror_mode": {
    "name": "ipython",
    "version": 3
   },
   "file_extension": ".py",
   "mimetype": "text/x-python",
   "name": "python",
   "nbconvert_exporter": "python",
   "pygments_lexer": "ipython3",
   "version": "3.12.3"
  }
 },
 "nbformat": 4,
 "nbformat_minor": 5
}
