{
 "cells": [
  {
   "cell_type": "markdown",
   "id": "32fad13b",
   "metadata": {},
   "source": [
    "El jugador más “retador” y el jugador más “retado"
   ]
  },
  {
   "cell_type": "markdown",
   "id": "7354237a",
   "metadata": {},
   "source": [
    "La versión en sql: \n",
    "```sql\n",
    "SELECT\n",
    "    ID_Jugador_Retador,\n",
    "    COUNT(ID_Jugador_Retado) AS Numero_Retos_Recibidos\n",
    "FROM\n",
    "    jugadores\n",
    "GROUP BY\n",
    "    ID_Jugador_Retado\n",
    "ORDER BY\n",
    "    Numero_Retos_Recibidos DESC\n",
    "LIMIT 1;\n",
    "```\n",
    "Lo traducimos como dos jobs, el primero que cuenta las ocurrencias del id_Jugador_Retador y el segundo que sacá el maximo de estos "
   ]
  },
  {
   "cell_type": "code",
   "execution_count": null,
   "id": "39dda489",
   "metadata": {},
   "outputs": [],
   "source": [
    "from MRE import Job\n",
    "inputDir = \"./jugadores/\"\n",
    "outputDir = \"./retadoresContados/\""
   ]
  },
  {
   "cell_type": "code",
   "execution_count": null,
   "id": "0d39625f",
   "metadata": {},
   "outputs": [],
   "source": [
    "# Un solo Job que cuenta tanto retadores como retados\n",
    "# La clave de salida es una tupla (TYPE, player_id) donde TYPE es 'RETADOR' o 'RETADO'\n",
    "# El valor de salida es la cantidad de veces que ese player_id aparece como retador o retado\n",
    "def fmap(key, value, context):\n",
    "    # por cada linea genero dos con clave tipo + id y valor 1\n",
    "    retador = int(key)\n",
    "    parts = value.split('\t')\n",
    "    context.write(('RETADOR', retador), 1)\n",
    "    retado = int(parts[0])\n",
    "    context.write(('RETADO', retado), 1)\n",
    "\n",
    "def fcombiner(key, values, context):\n",
    "    # simple combiner: sum counts locally\n",
    "    s = 0\n",
    "    for v in values:\n",
    "        s += int(v)\n",
    "    context.write(key, s)\n",
    "\n",
    "def fred(key, values, context):\n",
    "    # reducer to sum counts per (TYPE, player_id)\n",
    "    s = 0\n",
    "    for v in values:\n",
    "        s += int(v)\n",
    "    # write the composite key (TYPE, player) and the total count\n",
    "    context.write(key, s)\n",
    "\n",
    "jobCountBoth = Job(inputDir, outputDir, fmap, fred)\n",
    "jobCountBoth.setCombiner(fcombiner)\n",
    "success = jobCountBoth.waitForCompletion()\n",
    "\n",
    "print(success)"
   ]
  },
  {
   "cell_type": "markdown",
   "id": "20eb0d65",
   "metadata": {},
   "source": [
    "ahora saco el maximo"
   ]
  },
  {
   "cell_type": "code",
   "execution_count": null,
   "id": "f206e8b6",
   "metadata": {},
   "outputs": [],
   "source": [
    "# The second job reads the (TYPE,player) counts produced by the first job\n",
    "# Each line in the first job's output looks like: TYPE\tplayer\tcount\n",
    "inputDir = \"./retadoresContados/\"\n",
    "outputDir = \"./output2/\""
   ]
  },
  {
   "cell_type": "code",
   "execution_count": null,
   "id": "b8e05b25",
   "metadata": {},
   "outputs": [],
   "source": [
    "# Mapper for the max-job: pass through so reducer receives TYPE as key\n",
    "def fmap_max(key, value, context):\n",
    "    # When reading the output of the counting job, the framework gives\n",
    "    # key = TYPE (e.g. 'RETADOR' or 'RETADO') and value = 'player\tcount'\n",
    "    context.write(key, value)\n",
    "\n",
    "def fred_max(key, values, context):\n",
    "    # values is an iterator of strings like 'player\tcount'\n",
    "    max_count = -1\n",
    "    max_player = None\n",
    "    for v in values:\n",
    "        parts = v.split('\t')\n",
    "        player = int(parts[0])\n",
    "        cnt = int(parts[1])\n",
    "        if cnt > max_count:\n",
    "            max_count = cnt\n",
    "            max_player = player\n",
    "    # write TYPE -> (player_with_max, max_count)\n",
    "    context.write(key, (max_player, max_count))\n",
    "\n",
    "jobMax = Job(inputDir, outputDir, fmap_max, fred_max)\n",
    "# no combiner needed for the max job\n",
    "success = jobMax.waitForCompletion()\n",
    "\n",
    "print(success)"
   ]
  }
 ],
 "metadata": {
  "kernelspec": {
   "display_name": "prueba",
   "language": "python",
   "name": "python3"
  },
  "language_info": {
   "codemirror_mode": {
    "name": "ipython",
    "version": 3
   },
   "file_extension": ".py",
   "mimetype": "text/x-python",
   "name": "python",
   "nbconvert_exporter": "python",
   "pygments_lexer": "ipython3",
   "version": "3.12.3"
  }
 },
 "nbformat": 4,
 "nbformat_minor": 5
}
