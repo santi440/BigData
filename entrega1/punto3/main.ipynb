{
 "cells": [
  {
   "cell_type": "code",
   "execution_count": null,
   "id": "70b0e911",
   "metadata": {},
   "outputs": [],
   "source": [
    "from MRE import Job\n",
    "inputDir = \"./jugadores/\"\n",
    "outputDir = \"./distinct/\""
   ]
  },
  {
   "cell_type": "code",
   "execution_count": null,
   "id": "bb3c2769",
   "metadata": {},
   "outputs": [],
   "source": [
    "def fmap(key, value, context):\n",
    "    lista = value.split()\n",
    "    context.write((key,lista[0]),1)\n",
    "\n",
    "def fred(key, values, context):\n",
    "    context.write(key[0], key[1])\n",
    "\n",
    "jobCount = Job(inputDir, outputDir, fmap, fred)\n",
    "success = jobCount.waitForCompletion()\n",
    "\n",
    "print(success)"
   ]
  },
  {
   "cell_type": "markdown",
   "id": "875849c3",
   "metadata": {},
   "source": [
    "Segundo job que calcula el promedio y el maximo"
   ]
  },
  {
   "cell_type": "code",
   "execution_count": null,
   "id": "687b3a86",
   "metadata": {},
   "outputs": [],
   "source": [
    "inputDir = \"./distinct/\"\n",
    "outputDir = \"./out/\""
   ]
  },
  {
   "cell_type": "code",
   "execution_count": null,
   "id": "5cffe0b3",
   "metadata": {},
   "outputs": [],
   "source": [
    "def fmap(key, value, context):\n",
    "    context.write(key, value)\n",
    "\n",
    "def fred(key, values, context):\n",
    "    c = 0\n",
    "    for v in values:\n",
    "        c += 1\n",
    "    if c >= H:\n",
    "        context.write(key, c)\n",
    "H = 12\n",
    "\n",
    "jobCountBoth = Job(inputDir, outputDir, fmap, fred)\n",
    "jobCountBoth.setParams(H)\n",
    "success = jobCountBoth.waitForCompletion()\n",
    "\n",
    "print(success)"
   ]
  }
 ],
 "metadata": {
  "kernelspec": {
   "display_name": "venv (3.12.3)",
   "language": "python",
   "name": "python3"
  },
  "language_info": {
   "codemirror_mode": {
    "name": "ipython",
    "version": 3
   },
   "file_extension": ".py",
   "mimetype": "text/x-python",
   "name": "python",
   "nbconvert_exporter": "python",
   "pygments_lexer": "ipython3",
   "version": "3.12.3"
  }
 },
 "nbformat": 4,
 "nbformat_minor": 5
}
