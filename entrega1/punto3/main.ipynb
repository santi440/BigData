{
 "cells": [
  {
   "cell_type": "code",
   "execution_count": 42,
   "id": "70b0e911",
   "metadata": {},
   "outputs": [],
   "source": [
    "from MRE import Job\n",
    "inputDir = \"./jugadores/\"\n",
    "outputDir = \"./contabilizado/\""
   ]
  },
  {
   "cell_type": "code",
   "execution_count": 43,
   "id": "bb3c2769",
   "metadata": {},
   "outputs": [
    {
     "name": "stdout",
     "output_type": "stream",
     "text": [
      "True\n"
     ]
    }
   ],
   "source": [
    "def fmap(key, value, context):\n",
    "    lista = value.split()\n",
    "    puntos = int(lista[1])\n",
    "    context.write(key, (puntos,1))\n",
    "\n",
    "def fcombiner(key, values, context):\n",
    "    # simple combiner: sum counts locally\n",
    "    s = 0\n",
    "    c = 0\n",
    "    for v in values:\n",
    "        s += int(v[0])\n",
    "        c += int(v[1])\n",
    "    context.write(key, [s, c])\n",
    "\n",
    "def fred(key, values, context):\n",
    "    s = 0\n",
    "    c = 0\n",
    "    for v in values:\n",
    "        s += int(v[0])\n",
    "        c += int(v[1])\n",
    "    context.write(key, (s, c))\n",
    "\n",
    "jobCount = Job(inputDir, outputDir, fmap, fred)\n",
    "jobCount.setCombiner(fcombiner)\n",
    "success = jobCount.waitForCompletion()\n",
    "\n",
    "print(success)"
   ]
  },
  {
   "cell_type": "markdown",
   "id": "875849c3",
   "metadata": {},
   "source": [
    "Segundo job que calcula el promedio y el maximo"
   ]
  },
  {
   "cell_type": "code",
   "execution_count": 44,
   "id": "687b3a86",
   "metadata": {},
   "outputs": [],
   "source": [
    "inputDir = \"./contabilizado/\"\n",
    "outputDir = \"./out/\""
   ]
  },
  {
   "cell_type": "code",
   "execution_count": 45,
   "id": "5cffe0b3",
   "metadata": {},
   "outputs": [
    {
     "name": "stdout",
     "output_type": "stream",
     "text": [
      "True\n"
     ]
    }
   ],
   "source": [
    "def fmap(key, value, context):\n",
    "    lista = value.split()\n",
    "    promedio = (int(lista[0]) + 1 )/(int(lista[1]) + 1)\n",
    "    context.write(1, (key, promedio))\n",
    "\n",
    "def fred(key, values, context):\n",
    "    maximo = -1\n",
    "    clave = 0\n",
    "    for v in values:\n",
    "        if v[1] > maximo:\n",
    "            maximo = v[1]\n",
    "            clave = v[0]\n",
    "    context.write(clave, maximo)\n",
    "\n",
    "jobCountBoth = Job(inputDir, outputDir, fmap, fred)\n",
    "success = jobCountBoth.waitForCompletion()\n",
    "\n",
    "print(success)"
   ]
  }
 ],
 "metadata": {
  "kernelspec": {
   "display_name": "prueba",
   "language": "python",
   "name": "python3"
  },
  "language_info": {
   "codemirror_mode": {
    "name": "ipython",
    "version": 3
   },
   "file_extension": ".py",
   "mimetype": "text/x-python",
   "name": "python",
   "nbconvert_exporter": "python",
   "pygments_lexer": "ipython3",
   "version": "3.12.3"
  }
 },
 "nbformat": 4,
 "nbformat_minor": 5
}
