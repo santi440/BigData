{
 "cells": [
  {
   "cell_type": "code",
   "execution_count": 1,
   "id": "d14045fb",
   "metadata": {},
   "outputs": [],
   "source": [
    "from MRE import Job\n",
    "inputDir = \"./input/\"\n",
    "outputDir = \"./output/\""
   ]
  },
  {
   "cell_type": "code",
   "execution_count": 21,
   "id": "fa47f3f1",
   "metadata": {},
   "outputs": [
    {
     "name": "stdout",
     "output_type": "stream",
     "text": [
      "True\n"
     ]
    }
   ],
   "source": [
    "def fmap(key, value, context):\n",
    "    words = value.split()\n",
    "    for w in words:\n",
    "        context.write(w, 1)\n",
    "        \n",
    "def fred(key, values, context):\n",
    "    c=0\n",
    "    for v in values:\n",
    "        c=c+1\n",
    "    context.write(key, c)\n",
    "\n",
    "job = Job(inputDir, outputDir, fmap, fred)\n",
    "success = job.waitForCompletion()\n",
    "\n",
    "print(success)"
   ]
  },
  {
   "cell_type": "code",
   "execution_count": null,
   "id": "59f378e8",
   "metadata": {},
   "outputs": [
    {
     "name": "stdout",
     "output_type": "stream",
     "text": [
      "Los 20 valores más altos son:\n",
      "de: 833\n",
      "y: 503\n",
      "la: 490\n",
      "que: 461\n",
      "el: 409\n",
      "en: 366\n",
      "a: 267\n",
      "se: 158\n",
      "del: 153\n",
      "su: 148\n",
      "los: 138\n",
      "un: 137\n",
      "con: 133\n",
      "al: 126\n",
      "las: 120\n",
      "mi: 112\n",
      "por: 103\n",
      "una: 96\n",
      "no: 95\n",
      "me: 89\n"
     ]
    }
   ],
   "source": [
    "from collections import Counter\n",
    "\n",
    "def top_20_values(nombre_archivo):\n",
    "    \n",
    "    # Usa un diccionario para almacenar las claves y sus valores\n",
    "    valores = {}\n",
    "    with open(nombre_archivo, 'r') as archivo:\n",
    "        for linea in archivo:\n",
    "            if linea:\n",
    "                linea = linea.strip()\n",
    "                # Separa la línea en clave y valor por el \\t\n",
    "                partes = linea.split('\\t')\n",
    "                clave = partes[0]\n",
    "                valor = partes[1]\n",
    "                valor = int(valor)\n",
    "                valores[clave] = valor\n",
    "    contador = Counter(valores)\n",
    "\n",
    "    # Usa .most_common(20) para obtener las 20 claves con los valores más altos\n",
    "    top_20 = contador.most_common(20)\n",
    "\n",
    "    print(\"Los 20 valores más altos son:\")\n",
    "    for clave, valor in top_20:\n",
    "        print(f\"{clave}: {valor}\")\n",
    "\n",
    "# Ejemplo de uso\n",
    "if __name__ == \"__main__\":\n",
    "    top_20_values('./output/output.txt')"
   ]
  }
 ],
 "metadata": {
  "kernelspec": {
   "display_name": "prueba",
   "language": "python",
   "name": "python3"
  },
  "language_info": {
   "codemirror_mode": {
    "name": "ipython",
    "version": 3
   },
   "file_extension": ".py",
   "mimetype": "text/x-python",
   "name": "python",
   "nbconvert_exporter": "python",
   "pygments_lexer": "ipython3",
   "version": "3.12.3"
  }
 },
 "nbformat": 4,
 "nbformat_minor": 5
}
