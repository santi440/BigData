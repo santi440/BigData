{
 "cells": [
  {
   "cell_type": "code",
   "execution_count": 2,
   "id": "d14045fb",
   "metadata": {},
   "outputs": [],
   "source": [
    "from MRE import Job\n",
    "inputDir = \"./input/\"\n",
    "outputDir = \"./output/\""
   ]
  },
  {
   "cell_type": "code",
   "execution_count": null,
   "id": "48169cb4",
   "metadata": {},
   "outputs": [],
   "source": [
    "def dias_between(dia,mes,anio):\n",
    "    from datetime import datetime\n",
    "    d1 = datetime.date(int(anio),int(mes),int(dia)) \n",
    "    d2 = datetime.today()\n",
    "    return abs((d2 - d1).days)"
   ]
  },
  {
   "cell_type": "code",
   "execution_count": 11,
   "id": "fa47f3f1",
   "metadata": {},
   "outputs": [
    {
     "ename": "TypeError",
     "evalue": "descriptor 'date' for 'datetime.datetime' objects doesn't apply to a 'str' object",
     "output_type": "error",
     "traceback": [
      "\u001b[31m---------------------------------------------------------------------------\u001b[39m",
      "\u001b[31mTypeError\u001b[39m                                 Traceback (most recent call last)",
      "\u001b[36mCell\u001b[39m\u001b[36m \u001b[39m\u001b[32mIn[11]\u001b[39m\u001b[32m, line 23\u001b[39m\n\u001b[32m     20\u001b[39m     context.write(key, (max_nombre,total, prom_edad ))\n\u001b[32m     22\u001b[39m job = Job(inputDir, outputDir, fmap, fred)\n\u001b[32m---> \u001b[39m\u001b[32m23\u001b[39m success = \u001b[43mjob\u001b[49m\u001b[43m.\u001b[49m\u001b[43mwaitForCompletion\u001b[49m\u001b[43m(\u001b[49m\u001b[43m)\u001b[49m\n\u001b[32m     25\u001b[39m \u001b[38;5;28mprint\u001b[39m(success)\n",
      "\u001b[36mFile \u001b[39m\u001b[32m~/Escritorio/Big Data/punto7/MRE.py:470\u001b[39m, in \u001b[36mJob.waitForCompletion\u001b[39m\u001b[34m(this)\u001b[39m\n\u001b[32m    468\u001b[39m \u001b[38;5;28;01mdef\u001b[39;00m\u001b[38;5;250m \u001b[39m\u001b[34mwaitForCompletion\u001b[39m(this):\n\u001b[32m    469\u001b[39m     context = _Context(this.__inputs, this.__interDir, this.__output, this.__fComb, this.__params, this.__fShuffleCmp, this.__fSortCmp)\n\u001b[32m--> \u001b[39m\u001b[32m470\u001b[39m     \u001b[43mthis\u001b[49m\u001b[43m.\u001b[49m\u001b[43m__map\u001b[49m\u001b[43m(\u001b[49m\u001b[43mcontext\u001b[49m\u001b[43m)\u001b[49m\n\u001b[32m    471\u001b[39m     this.__shuffle(context)\n\u001b[32m    472\u001b[39m     this.__sort(context)\n",
      "\u001b[36mFile \u001b[39m\u001b[32m~/Escritorio/Big Data/punto7/MRE.py:455\u001b[39m, in \u001b[36mJob.__map\u001b[39m\u001b[34m(this, context)\u001b[39m\n\u001b[32m    453\u001b[39m \u001b[38;5;28;01mfor\u001b[39;00m n \u001b[38;5;129;01min\u001b[39;00m context:\n\u001b[32m    454\u001b[39m     \u001b[38;5;28;01mfor\u001b[39;00m (f, k, v) \u001b[38;5;129;01min\u001b[39;00m n:\n\u001b[32m--> \u001b[39m\u001b[32m455\u001b[39m         \u001b[43mf\u001b[49m\u001b[43m(\u001b[49m\u001b[43mk\u001b[49m\u001b[43m,\u001b[49m\u001b[43m \u001b[49m\u001b[43mv\u001b[49m\u001b[43m,\u001b[49m\u001b[43m \u001b[49m\u001b[43mcontext\u001b[49m\u001b[43m)\u001b[49m\n",
      "\u001b[36mCell\u001b[39m\u001b[36m \u001b[39m\u001b[32mIn[11]\u001b[39m\u001b[32m, line 4\u001b[39m, in \u001b[36mfmap\u001b[39m\u001b[34m(key, value, context)\u001b[39m\n\u001b[32m      1\u001b[39m \u001b[38;5;28;01mdef\u001b[39;00m\u001b[38;5;250m \u001b[39m\u001b[34mfmap\u001b[39m(key, value, context):\n\u001b[32m      2\u001b[39m     \u001b[38;5;66;03m#toma automaticamente dni como key\u001b[39;00m\n\u001b[32m      3\u001b[39m     nombre,dia,mes,anio,monto = value.split(\u001b[33m\"\u001b[39m\u001b[38;5;130;01m\\t\u001b[39;00m\u001b[33m\"\u001b[39m)\n\u001b[32m----> \u001b[39m\u001b[32m4\u001b[39m     context.write(\u001b[32m1\u001b[39m,(nombre,\u001b[43mdias_between\u001b[49m\u001b[43m(\u001b[49m\u001b[43mdia\u001b[49m\u001b[43m,\u001b[49m\u001b[43mmes\u001b[49m\u001b[43m,\u001b[49m\u001b[43manio\u001b[49m\u001b[43m)\u001b[49m,monto))\n",
      "\u001b[36mCell\u001b[39m\u001b[36m \u001b[39m\u001b[32mIn[1]\u001b[39m\u001b[32m, line 3\u001b[39m, in \u001b[36mdias_between\u001b[39m\u001b[34m(dia, mes, anio)\u001b[39m\n\u001b[32m      1\u001b[39m \u001b[38;5;28;01mdef\u001b[39;00m\u001b[38;5;250m \u001b[39m\u001b[34mdias_between\u001b[39m(dia,mes,anio):\n\u001b[32m      2\u001b[39m     \u001b[38;5;28;01mfrom\u001b[39;00m\u001b[38;5;250m \u001b[39m\u001b[34;01mdatetime\u001b[39;00m\u001b[38;5;250m \u001b[39m\u001b[38;5;28;01mimport\u001b[39;00m datetime\n\u001b[32m----> \u001b[39m\u001b[32m3\u001b[39m     d1 = \u001b[43mdatetime\u001b[49m\u001b[43m.\u001b[49m\u001b[43mdate\u001b[49m\u001b[43m(\u001b[49m\u001b[43manio\u001b[49m\u001b[43m,\u001b[49m\u001b[43mmes\u001b[49m\u001b[43m,\u001b[49m\u001b[43mdia\u001b[49m\u001b[43m)\u001b[49m \n\u001b[32m      4\u001b[39m     d2 = datetime.today()\n\u001b[32m      5\u001b[39m     \u001b[38;5;28;01mreturn\u001b[39;00m \u001b[38;5;28mabs\u001b[39m((d2 - d1).days)\n",
      "\u001b[31mTypeError\u001b[39m: descriptor 'date' for 'datetime.datetime' objects doesn't apply to a 'str' object"
     ]
    }
   ],
   "source": [
    "def fmap(key, value, context):\n",
    "    #toma automaticamente dni como key\n",
    "    nombre,dia,mes,anio,monto = value.split(\"\\t\")\n",
    "    context.write(1,(nombre,dias_between(dia,mes,anio),monto))\n",
    "        \n",
    "def fred(key, value, context):\n",
    "    tam=0\n",
    "    edades=0\n",
    "    total=0\n",
    "    max=-1\n",
    "    max_nombre=\"\"\n",
    "    for v in value:\n",
    "        tam=tam+1\n",
    "        edades=edades+v[1]\n",
    "        total=total+int(v[2])\n",
    "        if int(v[1])>max:\n",
    "            max=int(v[1])\n",
    "            max_nombre=v[0]\n",
    "    prom_edad=edades/tam\n",
    "    context.write(key, (max_nombre,total, prom_edad ))\n",
    "\n",
    "job = Job(inputDir, outputDir, fmap, fred)\n",
    "success = job.waitForCompletion()\n",
    "\n",
    "print(success)"
   ]
  }
 ],
 "metadata": {
  "kernelspec": {
   "display_name": "prueba",
   "language": "python",
   "name": "python3"
  },
  "language_info": {
   "codemirror_mode": {
    "name": "ipython",
    "version": 3
   },
   "file_extension": ".py",
   "mimetype": "text/x-python",
   "name": "python",
   "nbconvert_exporter": "python",
   "pygments_lexer": "ipython3",
   "version": "3.12.3"
  }
 },
 "nbformat": 4,
 "nbformat_minor": 5
}
