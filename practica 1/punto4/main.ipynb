{
 "cells": [
  {
   "cell_type": "code",
   "execution_count": null,
   "id": "d14045fb",
   "metadata": {},
   "outputs": [],
   "source": [
    "from MRE import Job\n",
    "inputDir = \"./input/\"\n",
    "outputDir = \"./output/\"\n",
    "vocales = ['a', 'e', 'i', 'o', 'u']\n",
    "consonantes = ['b', 'c', 'd', 'f', 'g', 'h', 'j', 'k', 'l', 'm', 'n', 'p', 'q', 'r', 's', 't', 'v', 'w', 'x', 'y', 'z']\n",
    "digitos = ['0', '1', '2', '3', '4', '5', '6', '7', '8', '9']"
   ]
  },
  {
   "cell_type": "code",
   "execution_count": null,
   "id": "fa47f3f1",
   "metadata": {},
   "outputs": [],
   "source": [
    "def fmap(key, value, context):\n",
    "    words = value.split()\n",
    "    for w in words:\n",
    "        context.write(w, 1)\n",
    "        \n",
    "def fred(key, values, context):\n",
    "    vocal=0\n",
    "    consonante=0\n",
    "    digito=0\n",
    "    espacio=0\n",
    "    otro=0\n",
    "    for v in key:\n",
    "        for letra in v:\n",
    "            if letra.lower() in vocales:\n",
    "                vocal=vocal+1\n",
    "            elif letra.lower() in consonantes:\n",
    "                consonante=consonante+1\n",
    "            elif letra in digitos:\n",
    "                digito=digito+1\n",
    "            elif letra==' ':\n",
    "                espacio=espacio+1\n",
    "            else:\n",
    "                otro=otro+1\n",
    "    context.write(key, (vocal, consonante, digito, espacio, otro))\n",
    "\n",
    "job = Job(inputDir, outputDir, fmap, fred)\n",
    "success = job.waitForCompletion()\n",
    "\n",
    "print(success)"
   ]
  }
 ],
 "metadata": {
  "kernelspec": {
   "display_name": "prueba",
   "language": "python",
   "name": "python3"
  },
  "language_info": {
   "codemirror_mode": {
    "name": "ipython",
    "version": 3
   },
   "file_extension": ".py",
   "mimetype": "text/x-python",
   "name": "python",
   "nbconvert_exporter": "python",
   "pygments_lexer": "ipython3",
   "version": "3.12.3"
  }
 },
 "nbformat": 4,
 "nbformat_minor": 5
}
