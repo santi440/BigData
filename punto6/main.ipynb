{
 "cells": [
  {
   "cell_type": "code",
   "execution_count": null,
   "id": "d14045fb",
   "metadata": {},
   "outputs": [],
   "source": [
    "from MRE import Job\n",
    "inputDir = \"./input/\"\n",
    "outputDir = \"./output/\"\n",
    "categorias = [\"Muy satisfecho\", \"Algo satisfecho\", \"Poco satisfecho\",\"Disconforme\" , \"Muy disconforme\"]"
   ]
  },
  {
   "cell_type": "code",
   "execution_count": null,
   "id": "fa47f3f1",
   "metadata": {},
   "outputs": [],
   "source": [
    "def fmap(key, value, context):\n",
    "    nuevo = value.lower().capitalize()\n",
    "    context.write(nuevo, 1)\n",
    "        \n",
    "def fred(key, value, context):\n",
    "    c=0\n",
    "    \n",
    "    if(key in categorias):\n",
    "        for v in value:\n",
    "            c=c+1\n",
    "        context.write(key, c)\n",
    "\n",
    "job = Job(inputDir, outputDir, fmap, fred)\n",
    "success = job.waitForCompletion()\n",
    "\n",
    "print(success)"
   ]
  }
 ],
 "metadata": {
  "kernelspec": {
   "display_name": "prueba",
   "language": "python",
   "name": "python3"
  },
  "language_info": {
   "codemirror_mode": {
    "name": "ipython",
    "version": 3
   },
   "file_extension": ".py",
   "mimetype": "text/x-python",
   "name": "python",
   "nbconvert_exporter": "python",
   "pygments_lexer": "ipython3",
   "version": "3.12.3"
  }
 },
 "nbformat": 4,
 "nbformat_minor": 5
}
