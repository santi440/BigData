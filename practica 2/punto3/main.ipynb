{
 "cells": [
  {
   "cell_type": "code",
   "execution_count": null,
   "id": "d14045fb",
   "metadata": {},
   "outputs": [],
   "source": [
    "from MRE import Job\n",
    "inputDir1 = \"./input/\"\n",
    "outputDir = \"./output/\"\n",
    "outputDirFin = \"./out/\""
   ]
  },
  {
   "cell_type": "code",
   "execution_count": null,
   "id": "fa47f3f1",
   "metadata": {},
   "outputs": [],
   "source": [
    "def fmap(key, value, context):\n",
    "    words = value.split()\n",
    "    for w in words:\n",
    "        context.write(w, 1)\n",
    "        \n",
    "def fred(key, values, context):\n",
    "    c=0\n",
    "    for v in values:\n",
    "        c=c+v\n",
    "    context.write(key, c)\n",
    "    \n",
    "def fcombinerCount(key, values, context):\n",
    "    c=0\n",
    "    for v in values:\n",
    "        c=c+v\n",
    "    context.write(key, c)\n",
    "\n",
    "\n",
    "\n",
    "job = Job(inputDir1, outputDir, fmap, fred)\n",
    "job.setCombiner(fcombinerCount)\n",
    "success = job.waitForCompletion()\n",
    "\n",
    "print(success)"
   ]
  },
  {
   "cell_type": "code",
   "execution_count": null,
   "id": "79116bea",
   "metadata": {},
   "outputs": [],
   "source": [
    "import random\n",
    "def fmap(key, value, context):\n",
    "    context.write(random(0,10), (key,value))\n",
    "        \n",
    "def fred(key, values, context):\n",
    "    max = -1\n",
    "    maxKey= \"\"\n",
    "    min = 99999\n",
    "    minKey= \"\"\n",
    "    cant = 0\n",
    "    total = 0\n",
    "    for v in values:\n",
    "        clave = v.split()[0]\n",
    "        valor = v.split()[1]\n",
    "        cant+=1\n",
    "        total+=valor\n",
    "        if(max<valor):\n",
    "            max = valor\n",
    "            maxKey=clave\n",
    "        if(min>valor):\n",
    "            min = valor\n",
    "            minKey=clave\n",
    "    context.write(key, (minKey,maxKey,cant,total))\n",
    "    \n",
    "def fcombinerCount(key, values, context):\n",
    "    pass\n",
    "    #no puedo hacer un combiner debido a que no puedo modificar los valores que recibo.\n",
    "\n",
    "job = Job(outputDir, outputDirFin, fmap, fred)\n",
    "job.setCombiner(fcombinerCount)\n",
    "success = job.waitForCompletion()\n",
    "print(success)\n",
    "# No estoy seguro que hacer con la desviacion tengo sacado el promedio y para mi deberia recibirlo\n",
    "# como parametro no tiene sentido pasar y calcular el promedio siempre. Tengo que tner otro job \n",
    "# porque Xi es big data"
   ]
  }
 ],
 "metadata": {
  "kernelspec": {
   "display_name": "venv",
   "language": "python",
   "name": "python3"
  },
  "language_info": {
   "codemirror_mode": {
    "name": "ipython",
    "version": 3
   },
   "file_extension": ".py",
   "mimetype": "text/x-python",
   "name": "python",
   "nbconvert_exporter": "python",
   "pygments_lexer": "ipython3",
   "version": "3.12.3"
  }
 },
 "nbformat": 4,
 "nbformat_minor": 5
}
