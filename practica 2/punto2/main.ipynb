{
 "cells": [
  {
   "cell_type": "code",
   "execution_count": 15,
   "id": "d14045fb",
   "metadata": {},
   "outputs": [],
   "source": [
    "from MRE import Job\n",
    "inputDir = \"./input/\"\n",
    "outputDir = \"./output/\""
   ]
  },
  {
   "cell_type": "code",
   "execution_count": 16,
   "id": "fa47f3f1",
   "metadata": {},
   "outputs": [
    {
     "name": "stdout",
     "output_type": "stream",
     "text": [
      "True\n"
     ]
    }
   ],
   "source": [
    "def fmap(key, value, context):\n",
    "    words = value.split()\n",
    "    for w in words:\n",
    "        context.write(w, 1)\n",
    "        \n",
    "def fred(key, values, context):\n",
    "    c=0\n",
    "    for v in values:\n",
    "        c=c+v\n",
    "    context.write(key, c)\n",
    "    \n",
    "def fcombiner(key, values, context):\n",
    "    c=0\n",
    "    for v in values:\n",
    "        c=c+v\n",
    "    context.write(key, c)\n",
    "\n",
    "\n",
    "\n",
    "job = Job(inputDir, outputDir, fmap, fred)\n",
    "job.setCombiner(fcombiner)\n",
    "success = job.waitForCompletion()\n",
    "\n",
    "print(success)"
   ]
  }
 ],
 "metadata": {
  "kernelspec": {
   "display_name": "prueba",
   "language": "python",
   "name": "python3"
  },
  "language_info": {
   "codemirror_mode": {
    "name": "ipython",
    "version": 3
   },
   "file_extension": ".py",
   "mimetype": "text/x-python",
   "name": "python",
   "nbconvert_exporter": "python",
   "pygments_lexer": "ipython3",
   "version": "3.12.3"
  }
 },
 "nbformat": 4,
 "nbformat_minor": 5
}
